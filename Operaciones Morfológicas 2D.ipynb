{
 "cells": [
  {
   "cell_type": "code",
   "execution_count": 41,
   "id": "6a863bf1",
   "metadata": {},
   "outputs": [],
   "source": [
    "from PIL import Image \n",
    "import numpy as np\n",
    "import cv2\n",
    "import matplotlib.pyplot as plt"
   ]
  },
  {
   "cell_type": "code",
   "execution_count": 54,
   "id": "d983611a",
   "metadata": {},
   "outputs": [],
   "source": [
    "def erosion(cantSelec,imgVec,h,w):\n",
    "    imgOri = np.full((h,w, 3), 0)\n",
    "    imgEro = np.full((h,w, 3), 0)\n",
    "    \n",
    "    for i in range(h):\n",
    "        if (i > 0) and (i < h):\n",
    "            for j in range(w):\n",
    "                if(j > 0) and (j < w):\n",
    "                    if(imgVec[i,j] == 1.0) and (imgVec[i+1,j] == 1.0) and (imgVec[i+1,j+1] == 1.0) and (imgVec[i-1,j] == 1.0) and (imgVec[i-1,j-1] == 1.0) and (imgVec[i,j+1] == 1.0) and (imgVec[i-1,j+1] == 1.0) and (imgVec[i,j-1] == 1.0)and (imgVec[i+1,j-1] == 1.0):\n",
    "                        imgEro[i,j,0],  imgEro[i,j,1],  imgEro[i,j,2] = 255,255,255 \n",
    "                    else:\n",
    "                        imgEro[i,j,0], imgEro[i,j,1], imgEro[i,j,2] = 0,0,0\n",
    "\n",
    "                    if(imgVec[i,j] == 1.0):\n",
    "                        imgOri[i,j,0], imgOri[i,j,1], imgOri[i,j,2] = 255,255,255\n",
    "                        \n",
    "    for a in range(cantSelec-1):\n",
    "        imgVec = np.full((h, w, 3), 0)\n",
    "        \n",
    "        for i in range(h):\n",
    "            for j in range(w):\n",
    "                imgVec[i,j,0] = imgEro[i,j,0]\n",
    "                imgVec[i,j,1] = imgEro[i,j,1]\n",
    "                imgVec[i,j,2] = imgEro[i,j,2]\n",
    "                \n",
    "        for i in range(h):\n",
    "            if (i > 0) and (i < h-1):\n",
    "                for j in range(w):\n",
    "                    if(j > 0) and (j < w-1):\n",
    "                        if(imgVec[i,j,0] == 255) and (imgVec[i+1,j,0] == 255) and (imgVec[i+1,j+1,0] == 255) and (imgVec[i-1,j,0] == 255) and (imgVec[i-1,j-1,0] == 255) and (imgVec[i,j+1,0] == 255) and (imgVec[i-1,j+1,0] == 255) and (imgVec[i,j-1,0] == 255)and (imgVec[i+1,j-1,0] == 255):\n",
    "                            imgEro[i,j,0], imgEro[i,j,1], imgEro[i,j,2] = 255,255,255 \n",
    "                        else:\n",
    "                            imgEro[i,j,0], imgEro[i,j,1], imgEro[i,j,2] = 0,0,0\n",
    "                            \n",
    "    fig1 = plt.figure(figsize = (17,17))\n",
    "    ax = fig1.add_subplot(1,2,1)\n",
    "    ax.axis('off')\n",
    "    ax.imshow(imgOri)\n",
    "    ax.set_title('Imagen Original')\n",
    "    ax1 = fig1.add_subplot(1,2,2)\n",
    "    ax1.axis('off')\n",
    "    ax1.imshow(imgEro)\n",
    "    ax1.set_title('Imagen Erosionada')\n",
    "    return imgEro"
   ]
  },
  {
   "cell_type": "code",
   "execution_count": 60,
   "id": "a9ced23b",
   "metadata": {},
   "outputs": [],
   "source": [
    "def dilatacion(cantSelec,imgVec,h,w):\n",
    "    imgOri = np.full((h,w, 3), 0)\n",
    "    imgDil = np.full((h,w, 3), 0)\n",
    "    \n",
    "    for i in range(h):\n",
    "        if (i > 0) and (i < h):\n",
    "            for j in range(w):\n",
    "                if(j > 0) and (j < w):\n",
    "                    if(imgVec[i,j] == 1.0):\n",
    "                        imgOri[i,j,0], imgOri[i,j,1], imgOri[i,j,2] = 255,255,255\n",
    "                        imgDil[i,j,0], imgDil[i,j,1], imgDil[i,j,2] = 255,255,255\n",
    "                        imgDil[i+1,j,0], imgDil[i+1,j,1], imgDil[i+1,j,2] = 255,255,255\n",
    "                        imgDil[i-1,j,0],imgDil[i-1,j,1],imgDil[i-1,j,2] = 255,255,255\n",
    "                        imgDil[i,j+1,0],imgDil[i,j+1,1],imgDil[i,j+1,2] = 255,255,255 \n",
    "                        imgDil[i,j-1,0],imgDil[i,j-1,1],imgDil[i,j-1,2] = 255,255,255 \n",
    "                        imgDil[i+1,j+1,0], imgDil[i+1,j+1,1], imgDil[i+1,j+1,2] = 255,255,255\n",
    "                        imgDil[i-1,j-1,0],imgDil[i-1,j-1,1],imgDil[i-1,j-1,2] = 255,255,255\n",
    "                        imgDil[i-1,j+1,0],imgDil[i-1,j+1,1],imgDil[i-1,j+1,2] = 255,255,255 \n",
    "                        imgDil[i+1,j-1,0],imgDil[i+1,j-1,1],imgDil[i+1,j-1,2] = 255,255,255\n",
    "                    else:\n",
    "                        imgDil[i,j,0], imgDil[i,j,1], imgDil[i,j,2] = 0,0,0\n",
    "                        \n",
    "    for a in range(cantSelec-1):\n",
    "        imgVec1 = np.full((h,w, 3), 0)\n",
    "        \n",
    "        for i in range(h):\n",
    "            for j in range(w):\n",
    "                imgVec1[i,j,0] = imgDil[i,j,0]\n",
    "                imgVec1[i,j,1] = imgDil[i,j,1]\n",
    "                imgVec1[i,j,2] = imgDil[i,j,2]\n",
    "                \n",
    "        for i in range(h):\n",
    "            if (i > 0) and (i < h-1):\n",
    "                for j in range(w):\n",
    "                    if(j > 0) and (j < w-1):\n",
    "                        if(imgVec1[i,j,0] == 255):\n",
    "                            imgDil[i,j,0], imgDil[i,j,1], imgDil[i,j,2] = 255,255,255\n",
    "                            imgDil[i+1,j,0], imgDil[i+1,j,1], imgDil[i+1,j,2] = 255,255,255\n",
    "                            imgDil[i-1,j,0],imgDil[i-1,j,1],imgDil[i-1,j,2] = 255,255,255\n",
    "                            imgDil[i,j+1,0],imgDil[i,j+1,1],imgDil[i,j+1,2] = 255,255,255 \n",
    "                            imgDil[i,j-1,0],imgDil[i,j-1,1],imgDil[i,j-1,2] = 255,255,255 \n",
    "                            imgDil[i+1,j+1,0], imgDil[i+1,j+1,1], imgDil[i+1,j+1,2] = 255,255,255\n",
    "                            imgDil[i-1,j-1,0],imgDil[i-1,j-1,1],imgDil[i-1,j-1,2] = 255,255,255\n",
    "                            imgDil[i-1,j+1,0],imgDil[i-1,j+1,1],imgDil[i-1,j+1,2] = 255,255,255 \n",
    "                            imgDil[i+1,j-1,0],imgDil[i+1,j-1,1],imgDil[i+1,j-1,2] = 255,255,255\n",
    "                        else:\n",
    "                            imgDil[i,j,0], imgDil[i,j,1], imgDil[i,j,2] = 0,0,0\n",
    "    \n",
    "    fig1 = plt.figure(figsize = (17,17))\n",
    "    ax = fig1.add_subplot(1,3,1)\n",
    "    ax.axis('off')\n",
    "    ax.imshow(imgOri)\n",
    "    ax.set_title('Imagen Original')\n",
    "    ax1 = fig1.add_subplot(1,3,2)\n",
    "    ax1.axis('off')\n",
    "    ax1.imshow(imgDil)\n",
    "    ax1.set_title('Imagen Dilatada')"
   ]
  },
  {
   "cell_type": "code",
   "execution_count": 61,
   "id": "4be0234b",
   "metadata": {},
   "outputs": [
    {
     "name": "stdout",
     "output_type": "stream",
     "text": [
      "Eligue un numero del 0 al 9 para la selección de la imagen: 0\n",
      "Indica la cantidad de veces a realizar la operacion morfológica seleccionada: 5\n",
      "Operaciones morfológicas\n",
      "1. Erosion\n",
      "2. Dilatación\n",
      "Selecciona el tipo de operación que deseas:2\n"
     ]
    },
    {
     "data": {
      "image/png": "[encoded data removed]",
      "text/plain": [
       "<Figure size 1224x1224 with 2 Axes>"
      ]
     },
     "metadata": {
      "needs_background": "light"
     },
     "output_type": "display_data"
    }
   ],
   "source": [
    "imgname = ['bilevel_images\\\\007.bmp',\"bilevel_images\\\\008.bmp\",\"bilevel_images\\\\047.bmp\",\"bilevel_images\\\\009.bmp\",\"bilevel_images\\\\051.bmp\",\"bilevel_images\\\\020.bmp\",\"bilevel_images\\\\024.bmp\",\"bilevel_images\\\\030.bmp\",\"bilevel_images\\\\035.bmp\",\"bilevel_images\\\\043.bmp\"] \n",
    "numSelec = int(input(\"Eligue un numero del 0 al 9 para la selección de la imagen: \"))\n",
    "image = cv2.imread(imgname[numSelec], cv2.IMREAD_UNCHANGED)\n",
    "h,w=image.shape[:2]\n",
    "vec = np.empty((h, w), int)\n",
    "for i in range(h):\n",
    "    for j in range(w):\n",
    "        if (image[i,j] == 0):\n",
    "            vec[i,j]=1\n",
    "        else:\n",
    "            vec[i,j]=0\n",
    "imgVec = vec\n",
    "h, w = imgVec.shape[:2]\n",
    "\n",
    "cantSelec = int(input(\"Indica la cantidad de veces a realizar la operacion morfológica seleccionada: \"))\n",
    "tipoOM = int(input(\"Operaciones morfológicas\\n1. Erosion\\n2. Dilatación\\nSelecciona el tipo de operación que deseas:\"))\n",
    "\n",
    "if(tipoOM==1):\n",
    "    erosion(cantSelec,imgVec,h,w)\n",
    "if(tipoOM==2):\n",
    "    dilatacion(cantSelec,imgVec,h,w)"
   ]
  },
  {
   "cell_type": "code",
   "execution_count": null,
   "id": "fb4cb74c",
   "metadata": {},
   "outputs": [],
   "source": []
  }
 ],
 "metadata": {
  "kernelspec": {
   "display_name": "Python 3 (ipykernel)",
   "language": "python",
   "name": "python3"
  },
  "language_info": {
   "codemirror_mode": {
    "name": "ipython",
    "version": 3
   },
   "file_extension": ".py",
   "mimetype": "text/x-python",
   "name": "python",
   "nbconvert_exporter": "python",
   "pygments_lexer": "ipython3",
   "version": "3.9.7"
  }
 },
 "nbformat": 4,
 "nbformat_minor": 5
}
